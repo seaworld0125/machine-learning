{
 "cells": [
  {
   "cell_type": "code",
   "execution_count": 1,
   "id": "028cbcc2",
   "metadata": {},
   "outputs": [],
   "source": [
    "import sys\n",
    "assert sys.version_info >= (3,5)\n",
    "\n",
    "#is this notebook running on Colab or Kaggle? # 코랩에서 실행되냐?\n",
    "IS_COLAB = \"google.colab\" in sys.modules\n",
    "\n",
    "#Scikit-learn >= 0.20 is required # 사이킷런 버전 설정\n",
    "import sklearn\n",
    "assert sklearn.__version__ >= \"0.20\"\n",
    "\n",
    "#Common imports #당연히 임포트 하는 것들 \n",
    "import numpy as np\n",
    "import os\n",
    "\n",
    "#to make this notebook's output stable across runs # ??\n",
    "np.random.seed(42)\n",
    "\n",
    "# To plot pretty figures # matplotlib 설정?\n",
    "%matplotlib inline\n",
    "import matplotlib as mpl\n",
    "import matplotlib.pyplot as plt\n",
    "mpl.rc('axes', labelsize=14)\n",
    "mpl.rc('xtick', labelsize=12)\n",
    "mpl.rc('ytick', labelsize=12)\n",
    "\n",
    "#Where to save the figures # 어디에 저장할지?\n",
    "PROJECT_ROOT_DIR = \".\"\n",
    "CHAPTER_ID = \"classification\"\n",
    "IMAGES_PATH = os.path.join(PROJECT_ROOT_DIR, \"images\", CHAPTER_ID)\n",
    "os.makedirs(IMAGES_PATH, exist_ok=True)\n",
    "\n",
    "#png로 저장하는 함수\n",
    "def save_fig(fig_id, tight_layout=True, fig_extension=\"png\", resolution=300):\n",
    "    path = os.path.join(IMAGES_PATH, fig_id + \".\" + fig_extension)\n",
    "    print(\"Saving figure\", fig_id)\n",
    "    if tight_layout:\n",
    "        plt.tight_layout()\n",
    "    plt.savefig(path, format=fig_extension, dpi=resolution)"
   ]
  },
  {
   "cell_type": "code",
   "execution_count": 2,
   "id": "046a41b6",
   "metadata": {},
   "outputs": [],
   "source": [
    "import pandas as pd\n",
    "\n",
    "HOUSING_PATH = \"datasets\"\n",
    "\n",
    "def load_housing_data(housing_path=HOUSING_PATH):\n",
    "    csv_path = os.path.join(housing_path, \"emnist-digits-train.csv\")\n",
    "    return pd.read_csv(csv_path) "
   ]
  },
  {
   "cell_type": "code",
   "execution_count": 5,
   "id": "4a6a4cfb",
   "metadata": {},
   "outputs": [],
   "source": [
    "emnist = load_housing_data()"
   ]
  },
  {
   "cell_type": "code",
   "execution_count": 8,
   "id": "715c9453",
   "metadata": {},
   "outputs": [
    {
     "data": {
      "text/html": [
       "<div>\n",
       "<style scoped>\n",
       "    .dataframe tbody tr th:only-of-type {\n",
       "        vertical-align: middle;\n",
       "    }\n",
       "\n",
       "    .dataframe tbody tr th {\n",
       "        vertical-align: top;\n",
       "    }\n",
       "\n",
       "    .dataframe thead th {\n",
       "        text-align: right;\n",
       "    }\n",
       "</style>\n",
       "<table border=\"1\" class=\"dataframe\">\n",
       "  <thead>\n",
       "    <tr style=\"text-align: right;\">\n",
       "      <th></th>\n",
       "      <th>8</th>\n",
       "      <th>0</th>\n",
       "      <th>0.1</th>\n",
       "      <th>0.2</th>\n",
       "      <th>0.3</th>\n",
       "      <th>0.4</th>\n",
       "      <th>0.5</th>\n",
       "      <th>0.6</th>\n",
       "      <th>0.7</th>\n",
       "      <th>0.8</th>\n",
       "      <th>...</th>\n",
       "      <th>0.511</th>\n",
       "      <th>0.512</th>\n",
       "      <th>0.513</th>\n",
       "      <th>0.514</th>\n",
       "      <th>0.515</th>\n",
       "      <th>0.516</th>\n",
       "      <th>0.517</th>\n",
       "      <th>0.518</th>\n",
       "      <th>0.519</th>\n",
       "      <th>0.520</th>\n",
       "    </tr>\n",
       "  </thead>\n",
       "  <tbody>\n",
       "    <tr>\n",
       "      <th>0</th>\n",
       "      <td>9</td>\n",
       "      <td>0</td>\n",
       "      <td>0</td>\n",
       "      <td>0</td>\n",
       "      <td>0</td>\n",
       "      <td>0</td>\n",
       "      <td>0</td>\n",
       "      <td>0</td>\n",
       "      <td>0</td>\n",
       "      <td>0</td>\n",
       "      <td>...</td>\n",
       "      <td>0</td>\n",
       "      <td>0</td>\n",
       "      <td>0</td>\n",
       "      <td>0</td>\n",
       "      <td>0</td>\n",
       "      <td>0</td>\n",
       "      <td>0</td>\n",
       "      <td>0</td>\n",
       "      <td>0</td>\n",
       "      <td>0</td>\n",
       "    </tr>\n",
       "    <tr>\n",
       "      <th>1</th>\n",
       "      <td>6</td>\n",
       "      <td>0</td>\n",
       "      <td>0</td>\n",
       "      <td>0</td>\n",
       "      <td>0</td>\n",
       "      <td>0</td>\n",
       "      <td>0</td>\n",
       "      <td>0</td>\n",
       "      <td>0</td>\n",
       "      <td>0</td>\n",
       "      <td>...</td>\n",
       "      <td>0</td>\n",
       "      <td>0</td>\n",
       "      <td>0</td>\n",
       "      <td>0</td>\n",
       "      <td>0</td>\n",
       "      <td>0</td>\n",
       "      <td>0</td>\n",
       "      <td>0</td>\n",
       "      <td>0</td>\n",
       "      <td>0</td>\n",
       "    </tr>\n",
       "    <tr>\n",
       "      <th>2</th>\n",
       "      <td>3</td>\n",
       "      <td>0</td>\n",
       "      <td>0</td>\n",
       "      <td>0</td>\n",
       "      <td>0</td>\n",
       "      <td>0</td>\n",
       "      <td>0</td>\n",
       "      <td>0</td>\n",
       "      <td>0</td>\n",
       "      <td>0</td>\n",
       "      <td>...</td>\n",
       "      <td>0</td>\n",
       "      <td>0</td>\n",
       "      <td>0</td>\n",
       "      <td>0</td>\n",
       "      <td>0</td>\n",
       "      <td>0</td>\n",
       "      <td>0</td>\n",
       "      <td>0</td>\n",
       "      <td>0</td>\n",
       "      <td>0</td>\n",
       "    </tr>\n",
       "    <tr>\n",
       "      <th>3</th>\n",
       "      <td>6</td>\n",
       "      <td>0</td>\n",
       "      <td>0</td>\n",
       "      <td>0</td>\n",
       "      <td>0</td>\n",
       "      <td>0</td>\n",
       "      <td>0</td>\n",
       "      <td>0</td>\n",
       "      <td>0</td>\n",
       "      <td>0</td>\n",
       "      <td>...</td>\n",
       "      <td>0</td>\n",
       "      <td>0</td>\n",
       "      <td>0</td>\n",
       "      <td>0</td>\n",
       "      <td>0</td>\n",
       "      <td>0</td>\n",
       "      <td>0</td>\n",
       "      <td>0</td>\n",
       "      <td>0</td>\n",
       "      <td>0</td>\n",
       "    </tr>\n",
       "    <tr>\n",
       "      <th>4</th>\n",
       "      <td>6</td>\n",
       "      <td>0</td>\n",
       "      <td>0</td>\n",
       "      <td>0</td>\n",
       "      <td>0</td>\n",
       "      <td>0</td>\n",
       "      <td>0</td>\n",
       "      <td>0</td>\n",
       "      <td>0</td>\n",
       "      <td>0</td>\n",
       "      <td>...</td>\n",
       "      <td>0</td>\n",
       "      <td>0</td>\n",
       "      <td>0</td>\n",
       "      <td>0</td>\n",
       "      <td>0</td>\n",
       "      <td>0</td>\n",
       "      <td>0</td>\n",
       "      <td>0</td>\n",
       "      <td>0</td>\n",
       "      <td>0</td>\n",
       "    </tr>\n",
       "    <tr>\n",
       "      <th>...</th>\n",
       "      <td>...</td>\n",
       "      <td>...</td>\n",
       "      <td>...</td>\n",
       "      <td>...</td>\n",
       "      <td>...</td>\n",
       "      <td>...</td>\n",
       "      <td>...</td>\n",
       "      <td>...</td>\n",
       "      <td>...</td>\n",
       "      <td>...</td>\n",
       "      <td>...</td>\n",
       "      <td>...</td>\n",
       "      <td>...</td>\n",
       "      <td>...</td>\n",
       "      <td>...</td>\n",
       "      <td>...</td>\n",
       "      <td>...</td>\n",
       "      <td>...</td>\n",
       "      <td>...</td>\n",
       "      <td>...</td>\n",
       "      <td>...</td>\n",
       "    </tr>\n",
       "    <tr>\n",
       "      <th>239994</th>\n",
       "      <td>4</td>\n",
       "      <td>0</td>\n",
       "      <td>0</td>\n",
       "      <td>0</td>\n",
       "      <td>0</td>\n",
       "      <td>0</td>\n",
       "      <td>0</td>\n",
       "      <td>0</td>\n",
       "      <td>0</td>\n",
       "      <td>0</td>\n",
       "      <td>...</td>\n",
       "      <td>0</td>\n",
       "      <td>0</td>\n",
       "      <td>0</td>\n",
       "      <td>0</td>\n",
       "      <td>0</td>\n",
       "      <td>0</td>\n",
       "      <td>0</td>\n",
       "      <td>0</td>\n",
       "      <td>0</td>\n",
       "      <td>0</td>\n",
       "    </tr>\n",
       "    <tr>\n",
       "      <th>239995</th>\n",
       "      <td>2</td>\n",
       "      <td>0</td>\n",
       "      <td>0</td>\n",
       "      <td>0</td>\n",
       "      <td>0</td>\n",
       "      <td>0</td>\n",
       "      <td>0</td>\n",
       "      <td>0</td>\n",
       "      <td>0</td>\n",
       "      <td>0</td>\n",
       "      <td>...</td>\n",
       "      <td>0</td>\n",
       "      <td>0</td>\n",
       "      <td>0</td>\n",
       "      <td>0</td>\n",
       "      <td>0</td>\n",
       "      <td>0</td>\n",
       "      <td>0</td>\n",
       "      <td>0</td>\n",
       "      <td>0</td>\n",
       "      <td>0</td>\n",
       "    </tr>\n",
       "    <tr>\n",
       "      <th>239996</th>\n",
       "      <td>1</td>\n",
       "      <td>0</td>\n",
       "      <td>0</td>\n",
       "      <td>0</td>\n",
       "      <td>0</td>\n",
       "      <td>0</td>\n",
       "      <td>0</td>\n",
       "      <td>0</td>\n",
       "      <td>0</td>\n",
       "      <td>0</td>\n",
       "      <td>...</td>\n",
       "      <td>0</td>\n",
       "      <td>0</td>\n",
       "      <td>0</td>\n",
       "      <td>0</td>\n",
       "      <td>0</td>\n",
       "      <td>0</td>\n",
       "      <td>0</td>\n",
       "      <td>0</td>\n",
       "      <td>0</td>\n",
       "      <td>0</td>\n",
       "    </tr>\n",
       "    <tr>\n",
       "      <th>239997</th>\n",
       "      <td>1</td>\n",
       "      <td>0</td>\n",
       "      <td>0</td>\n",
       "      <td>0</td>\n",
       "      <td>0</td>\n",
       "      <td>0</td>\n",
       "      <td>0</td>\n",
       "      <td>0</td>\n",
       "      <td>0</td>\n",
       "      <td>0</td>\n",
       "      <td>...</td>\n",
       "      <td>0</td>\n",
       "      <td>0</td>\n",
       "      <td>0</td>\n",
       "      <td>0</td>\n",
       "      <td>0</td>\n",
       "      <td>0</td>\n",
       "      <td>0</td>\n",
       "      <td>0</td>\n",
       "      <td>0</td>\n",
       "      <td>0</td>\n",
       "    </tr>\n",
       "    <tr>\n",
       "      <th>239998</th>\n",
       "      <td>0</td>\n",
       "      <td>0</td>\n",
       "      <td>0</td>\n",
       "      <td>0</td>\n",
       "      <td>0</td>\n",
       "      <td>0</td>\n",
       "      <td>0</td>\n",
       "      <td>0</td>\n",
       "      <td>0</td>\n",
       "      <td>0</td>\n",
       "      <td>...</td>\n",
       "      <td>0</td>\n",
       "      <td>0</td>\n",
       "      <td>0</td>\n",
       "      <td>0</td>\n",
       "      <td>0</td>\n",
       "      <td>0</td>\n",
       "      <td>0</td>\n",
       "      <td>0</td>\n",
       "      <td>0</td>\n",
       "      <td>0</td>\n",
       "    </tr>\n",
       "  </tbody>\n",
       "</table>\n",
       "<p>239999 rows × 785 columns</p>\n",
       "</div>"
      ],
      "text/plain": [
       "        8  0  0.1  0.2  0.3  0.4  0.5  0.6  0.7  0.8  ...  0.511  0.512  \\\n",
       "0       9  0    0    0    0    0    0    0    0    0  ...      0      0   \n",
       "1       6  0    0    0    0    0    0    0    0    0  ...      0      0   \n",
       "2       3  0    0    0    0    0    0    0    0    0  ...      0      0   \n",
       "3       6  0    0    0    0    0    0    0    0    0  ...      0      0   \n",
       "4       6  0    0    0    0    0    0    0    0    0  ...      0      0   \n",
       "...    .. ..  ...  ...  ...  ...  ...  ...  ...  ...  ...    ...    ...   \n",
       "239994  4  0    0    0    0    0    0    0    0    0  ...      0      0   \n",
       "239995  2  0    0    0    0    0    0    0    0    0  ...      0      0   \n",
       "239996  1  0    0    0    0    0    0    0    0    0  ...      0      0   \n",
       "239997  1  0    0    0    0    0    0    0    0    0  ...      0      0   \n",
       "239998  0  0    0    0    0    0    0    0    0    0  ...      0      0   \n",
       "\n",
       "        0.513  0.514  0.515  0.516  0.517  0.518  0.519  0.520  \n",
       "0           0      0      0      0      0      0      0      0  \n",
       "1           0      0      0      0      0      0      0      0  \n",
       "2           0      0      0      0      0      0      0      0  \n",
       "3           0      0      0      0      0      0      0      0  \n",
       "4           0      0      0      0      0      0      0      0  \n",
       "...       ...    ...    ...    ...    ...    ...    ...    ...  \n",
       "239994      0      0      0      0      0      0      0      0  \n",
       "239995      0      0      0      0      0      0      0      0  \n",
       "239996      0      0      0      0      0      0      0      0  \n",
       "239997      0      0      0      0      0      0      0      0  \n",
       "239998      0      0      0      0      0      0      0      0  \n",
       "\n",
       "[239999 rows x 785 columns]"
      ]
     },
     "execution_count": 8,
     "metadata": {},
     "output_type": "execute_result"
    }
   ],
   "source": [
    "emnist"
   ]
  },
  {
   "cell_type": "code",
   "execution_count": 9,
   "id": "4fb84c24",
   "metadata": {},
   "outputs": [
    {
     "data": {
      "text/plain": [
       "Index(['8', '0', '0.1', '0.2', '0.3', '0.4', '0.5', '0.6', '0.7', '0.8',\n",
       "       ...\n",
       "       '0.511', '0.512', '0.513', '0.514', '0.515', '0.516', '0.517', '0.518',\n",
       "       '0.519', '0.520'],\n",
       "      dtype='object', length=785)"
      ]
     },
     "execution_count": 9,
     "metadata": {},
     "output_type": "execute_result"
    }
   ],
   "source": [
    "emnist.keys()"
   ]
  },
  {
   "cell_type": "markdown",
   "id": "200866ae",
   "metadata": {},
   "source": [
    "### train data, target 분류"
   ]
  },
  {
   "cell_type": "code",
   "execution_count": 91,
   "id": "ab0c74b0",
   "metadata": {
    "scrolled": true
   },
   "outputs": [
    {
     "name": "stdout",
     "output_type": "stream",
     "text": [
      "<class 'numpy.ndarray'>\n",
      "(239999, 784)\n",
      "[[0 0 0 ... 0 0 0]\n",
      " [0 0 0 ... 0 0 0]\n",
      " [0 0 0 ... 0 0 0]\n",
      " ...\n",
      " [0 0 0 ... 0 0 0]\n",
      " [0 0 0 ... 0 0 0]\n",
      " [0 0 0 ... 0 0 0]]\n",
      "<class 'numpy.ndarray'>\n",
      "(239999, 1)\n",
      "[[9]\n",
      " [6]\n",
      " [3]\n",
      " ...\n",
      " [1]\n",
      " [1]\n",
      " [0]]\n"
     ]
    }
   ],
   "source": [
    "X = emnist.loc[:, emnist.columns != '8'].values # .values -> numpy array로 변환\n",
    "y = emnist.loc[:, ['8']].values\n",
    "\n",
    "print(type(X))\n",
    "print(X.shape)\n",
    "print(X)\n",
    "\n",
    "print(type(y))\n",
    "print(y.shape)\n",
    "print(y)"
   ]
  },
  {
   "cell_type": "markdown",
   "id": "c47bcbff",
   "metadata": {},
   "source": [
    "### 이미지 출력 함수"
   ]
  },
  {
   "cell_type": "code",
   "execution_count": 55,
   "id": "502d2b6a",
   "metadata": {},
   "outputs": [],
   "source": [
    "def show_img(data, target):\n",
    "    digit_img = data.reshape(28,28) # data[0]을 28 * 28로 reshape\n",
    "    plt.imshow(digit_img, cmap=mpl.cm.binary)\n",
    "    plt.axis(\"off\")\n",
    "    plt.show()\n",
    "    print(\"target :\", target)"
   ]
  },
  {
   "cell_type": "markdown",
   "id": "c7a43052",
   "metadata": {},
   "source": [
    "### 샘플 확인"
   ]
  },
  {
   "cell_type": "code",
   "execution_count": 56,
   "id": "ab4347cb",
   "metadata": {
    "scrolled": true
   },
   "outputs": [
    {
     "data": {
      "image/png": "[encoded data removed]",
      "text/plain": [
       "<Figure size 432x288 with 1 Axes>"
      ]
     },
     "metadata": {
      "needs_background": "light"
     },
     "output_type": "display_data"
    },
    {
     "name": "stdout",
     "output_type": "stream",
     "text": [
      "target : [7]\n"
     ]
    }
   ],
   "source": [
    "%matplotlib inline\n",
    "import matplotlib as mpl\n",
    "import matplotlib.pyplot as plt\n",
    "\n",
    "# some_digit = X[5]\n",
    "# some_digit_image = some_digit.reshape(28,28) # data[0]을 28 * 28로 reshape\n",
    "# plt.imshow(some_digit_image, cmap=mpl.cm.binary)\n",
    "# plt.axis(\"off\")\n",
    "\n",
    "# save_fig(\"some_plot\") # 이미지 이름\n",
    "# plt.show()\n",
    "# print(\"target :\", y[5])\n",
    "\n",
    "show_img(X[5], y[5])"
   ]
  },
  {
   "cell_type": "markdown",
   "id": "a162dee5",
   "metadata": {},
   "source": [
    "### -10도 회전시킨 데이터를 추가"
   ]
  },
  {
   "cell_type": "code",
   "execution_count": 79,
   "id": "9c1dc8a4",
   "metadata": {
    "scrolled": true
   },
   "outputs": [
    {
     "data": {
      "image/png": "[encoded data removed]",
      "text/plain": [
       "<Figure size 432x288 with 1 Axes>"
      ]
     },
     "metadata": {
      "needs_background": "light"
     },
     "output_type": "display_data"
    },
    {
     "name": "stdout",
     "output_type": "stream",
     "text": [
      "target : [7]\n",
      "[  0   0   0   0   0   0   0   0   0   0   0   0   0   0   0   0   0   0\n",
      "   0   0   0   0   0   0   0   0   0   0   0   0   0   0   0   0   0   0\n",
      "   0   0   0   0   0   0   0   0   0   0   0   0   0   0   0   0   0   0\n",
      "   0   0   0   0   0   0   0   0   0   0   0   0   0   0   0   0   0   0\n",
      "   0   0   0   0   0   0   0   0   0   0   0   0   0   0   0   0   0   0\n",
      "   0   0   0   0   0   0   0   0   0   0   0   0   0   0   0   0   0   0\n",
      "   0   0   0   0   0   0   0   0   0   0   7  20  15   3   1   0   0   0\n",
      "   0   0   0   0   0   0   0   0   0   0   0   0   0   0   0   0   0   0\n",
      "   3  20  65 117 131  81  21   0   0   0   0   0   0   0   0   0   0   0\n",
      "   0   0   0   0   0   0   0   0   0   4  40 118 182 233 237 135  26   1\n",
      "   0   0   0   0   0   0   0   0   0   0   0   0   0   0   0   0   0   0\n",
      "   2  35 160 227 242 226 172  52   5   0   0   0   0   0   0   0   0   0\n",
      "   0   0   0   0   0   0   0   0   0   1  20 109 228 239 189 109  55   6\n",
      "   0   0   0   0   0   0   0   0   0   0   0   0   0   0   0   0   0   0\n",
      "   0   2  52 169 239 187  85  14   1   0   0   0   0   0   0   0   0   0\n",
      "   0   0   0   0   0   0   0   0   0   0   0   2  74 195 216 112  21   0\n",
      "   0   0   0   0   0   0   0   0   0   0   0   0   0   0   0   0   0   0\n",
      "   0   0   0   3  96 214 173  55   5   0   0   0   0   0   0   0   0   0\n",
      "   0   0   0   0   0   0   0   0   0   0   0   0   0   4 117 234 142  21\n",
      "   1   0   0   0   0   0   0   0   0   0   0   0   0   0   0   1   3  12\n",
      "  16   3   0   0   0  14 125 234 122   4   0   0   0   0   0   0   0   0\n",
      "   0   0   0   0   6  12  17  48  70  93 106  39   4   0   0  13  96 210\n",
      " 128  15   0   0   0   0   0   0   0   0   0   0   1   7  54 130 152 177\n",
      " 195 222 211  52   3   0   0  13 102 209 163  44   1   0   0   0   0   0\n",
      "   0   1   2  18  52  81 166 245 242 245 250 243 195  34   0   0   0   3\n",
      "  44 169 189  86  13   1   0   7  16  15  17  25  53 114 171 197 233 253\n",
      " 244 215 186 173 127  24   0   0   0   0  18 140 213 159  64  16   9  67\n",
      " 115 106 107 165 201 221 242 222 197 189 149  97  63  42  18   4   0   0\n",
      "   0   0   2  70 213 232 173 137 125 179 217 222 230 248 236 207 188 127\n",
      "  55  29  31  15   3   1   0   0   0   0   0   0   1  28 138 201 221 240\n",
      " 226 187 156 174 192 203 123  79  65  28   3   1   2   0   0   0   0   0\n",
      "   0   0   0   0   0   8  42  80 103 121 116  69  42  45  39  30  21   8\n",
      "   2   0   0   0   0   0   0   0   0   0   0   0   0   0   0   0   1   3\n",
      "   3   4  15   7   1   0   0   1   1   0   0   0   0   0   0   0   0   0\n",
      "   0   0   0   0   0   0   0   0   0   0   0   0   0   0   0   0   0   0\n",
      "   0   0   0   0   0   0   0   0   0   0   0   0   0   0   0   0   0   0\n",
      "   0   0   0   0   0   0   0   0   0   0   0   0   0   0   0   0   0   0\n",
      "   0   0   0   0   0   0   0   0   0   0   0   0   0   0   0   0   0   0\n",
      "   0   0   0   0   0   0   0   0   0   0   0   0   0   0   0   0   0   0\n",
      "   0   0   0   0   0   0   0   0   0   0   0   0   0   0   0   0   0   0\n",
      "   0   0   0   0   0   0   0   0   0   0   0   0   0   0   0   0   0   0\n",
      "   0   0   0   0   0   0   0   0   0   0   0   0   0   0   0   0   0   0\n",
      "   0   0   0   0   0   0   0   0   0   0   0   0   0   0   0   0   0   0\n",
      "   0   0   0   0   0   0   0   0   0   0]\n"
     ]
    }
   ],
   "source": [
    "import scipy.ndimage\n",
    "\n",
    "def rotate_data_func(data):\n",
    "    rotate_data = scipy.ndimage.interpolation.rotate(data.reshape(28,28), -10, cval=0.01, order=1, reshape=False)\n",
    "    return rotate_data\n",
    "\n",
    "show_img(rotate_data_func(X[5]), y[5])\n",
    "\n",
    "print(rotate_data_func(X[5]).reshape(784))"
   ]
  },
  {
   "cell_type": "markdown",
   "id": "672a7966",
   "metadata": {},
   "source": [
    "#### X_rotate, y_rotate 생성"
   ]
  },
  {
   "cell_type": "code",
   "execution_count": 162,
   "id": "1c7cfcd4",
   "metadata": {},
   "outputs": [
    {
     "name": "stdout",
     "output_type": "stream",
     "text": [
      "(239999, 784)\n",
      "(239999, 1)\n"
     ]
    }
   ],
   "source": [
    "X_rotate = []\n",
    "y_rotate = []    \n",
    "\n",
    "for image, label in zip(X, y):\n",
    "    X_rotate.append([rotate_data_func(image).reshape(784)])\n",
    "    y_rotate.append([label])\n",
    "    \n",
    "X_rotate = np.asarray(X_rotate)\n",
    "y_rotate = np.asarray(y_rotate)\n",
    "X_rotate = np.vstack(X_rotate)\n",
    "y_rotate = np.vstack(y_rotate)\n",
    "\n",
    "print(X_rotate.shape)\n",
    "print(y_rotate.shape)"
   ]
  },
  {
   "cell_type": "markdown",
   "id": "2c02f8ea",
   "metadata": {},
   "source": [
    "#### 데이터 합치기\n",
    "\n",
    "X + X_rotate\n",
    "\n",
    "y + y_rotate  "
   ]
  },
  {
   "cell_type": "code",
   "execution_count": 170,
   "id": "0605c370",
   "metadata": {},
   "outputs": [
    {
     "name": "stdout",
     "output_type": "stream",
     "text": [
      "(479998, 784)\n",
      "(479998, 1)\n"
     ]
    }
   ],
   "source": [
    "X_total = np.concatenate((X, X_rotate), axis=0)\n",
    "y_total = np.concatenate((y, y_rotate), axis=0)\n",
    "\n",
    "print(X_total.shape)\n",
    "print(y_total.shape)"
   ]
  },
  {
   "cell_type": "markdown",
   "id": "09cc7452",
   "metadata": {},
   "source": [
    "#### train set 완성"
   ]
  },
  {
   "cell_type": "code",
   "execution_count": 171,
   "id": "8b1d745d",
   "metadata": {},
   "outputs": [],
   "source": [
    "import numpy as np\n",
    "shuffle_index = np.random.permutation(479998)\n",
    "x_train, y_train = X_total[shuffle_index], y_total[shuffle_index]"
   ]
  },
  {
   "cell_type": "markdown",
   "id": "061cd745",
   "metadata": {},
   "source": [
    "### 우선 RandomForestClassifier 사용해보기"
   ]
  },
  {
   "cell_type": "code",
   "execution_count": 175,
   "id": "289eeee4",
   "metadata": {},
   "outputs": [
    {
     "data": {
      "text/plain": [
       "array([0.984625  , 0.983625  , 0.98385417, 0.984125  , 0.98335417,\n",
       "       0.98391667, 0.98402083, 0.98304167, 0.98404133, 0.98366633])"
      ]
     },
     "execution_count": 175,
     "metadata": {},
     "output_type": "execute_result"
    }
   ],
   "source": [
    "from sklearn.model_selection import cross_val_score\n",
    "from sklearn.ensemble import RandomForestClassifier\n",
    "\n",
    "forest_clf = RandomForestClassifier(random_state=42)\n",
    "\n",
    "forest_cv_score = cross_val_score(forest_clf, x_train, np.ravel(y_train), cv=10, scoring=\"accuracy\")"
   ]
  },
  {
   "cell_type": "code",
   "execution_count": 177,
   "id": "c9ea9426",
   "metadata": {},
   "outputs": [
    {
     "data": {
      "text/plain": [
       "0.983827017"
      ]
     },
     "execution_count": 177,
     "metadata": {},
     "output_type": "execute_result"
    }
   ],
   "source": [
    "np.mean([0.984625  , 0.983625  , 0.98385417, 0.984125  , 0.98335417,\n",
    "       0.98391667, 0.98402083, 0.98304167, 0.98404133, 0.98366633])"
   ]
  },
  {
   "cell_type": "code",
   "execution_count": null,
   "id": "f1be5add",
   "metadata": {},
   "outputs": [],
   "source": []
  }
 ],
 "metadata": {
  "kernelspec": {
   "display_name": "Python 3",
   "language": "python",
   "name": "python3"
  },
  "language_info": {
   "codemirror_mode": {
    "name": "ipython",
    "version": 3
   },
   "file_extension": ".py",
   "mimetype": "text/x-python",
   "name": "python",
   "nbconvert_exporter": "python",
   "pygments_lexer": "ipython3",
   "version": "3.8.8"
  }
 },
 "nbformat": 4,
 "nbformat_minor": 5
}
